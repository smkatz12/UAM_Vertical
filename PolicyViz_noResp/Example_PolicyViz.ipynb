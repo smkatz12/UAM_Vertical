{
 "cells": [
  {
   "cell_type": "code",
   "execution_count": null,
   "metadata": {},
   "outputs": [
    {
     "name": "stderr",
     "output_type": "stream",
     "text": [
      "┌ Info: Recompiling stale cache file /Users/sydneykatz/.julia/compiled/v1.0/PolicyViz.ji for PolicyViz [top-level]\n",
      "└ @ Base loading.jl:1184\n"
     ]
    }
   ],
   "source": [
    "# include necessary packages\n",
    "using Revise\n",
    "\n",
    "push!(LOAD_PATH,\".\")\n",
    "using PolicyViz\n",
    "using HDF5"
   ]
  },
  {
   "cell_type": "markdown",
   "metadata": {},
   "source": [
    "## Visualize Regressed VerticalCAS Policies\n",
    "#### Inputs: \n",
    "* **Q**: Q-values from Discrete Value Iteration\n",
    "\n",
    "#### Outputs: Interactive Plots\n",
    "\n",
    "##### Interactive Settings:\n",
    "* **nbin**: The number of bins being plotted. Higher nbin means better resolution, but that takes longer to compute\n",
    "* **savePlot**: This option and the remaining options are used to format and generate .tex files of the plots. Set to true if you want to save the plot, but as a result the plots shown here will no longer continue to update. The switch can be toggled to true whenever you have a plot you want to save.\n",
    "* **xmin**: Minimum of x-axis\n",
    "* **xmax**: Maximum of x-axis\n",
    "* **ymin**: Minimum of y-axis\n",
    "* **ymax**: Maximum of y-axis\n",
    "* **dh0**: Ownship vertical rate (ft/s)\n",
    "* **dh1**: Intruder vertical rate (ft/s)\n",
    "* **pra**: Previous RA"
   ]
  },
  {
   "cell_type": "code",
   "execution_count": 2,
   "metadata": {},
   "outputs": [],
   "source": [
    "# Read Q-values\n",
    "Q = h5read(\"../Results/test.h5\",\"q\")';"
   ]
  },
  {
   "cell_type": "code",
   "execution_count": 3,
   "metadata": {
    "scrolled": false
   },
   "outputs": [
    {
     "ename": "BoundsError",
     "evalue": "BoundsError: attempt to access 2687919×1 SparseArrays.SparseMatrixCSC{Float64,Int64} at index [2982916]",
     "output_type": "error",
     "traceback": [
      "BoundsError: attempt to access 2687919×1 SparseArrays.SparseMatrixCSC{Float64,Int64} at index [2982916]",
      "",
      "Stacktrace:",
      " [1] throw_boundserror(::SparseArrays.SparseMatrixCSC{Float64,Int64}, ::Tuple{Int64}) at ./abstractarray.jl:484",
      " [2] checkbounds at ./abstractarray.jl:449 [inlined]",
      " [3] _setindex! at ./abstractarray.jl:1032 [inlined]",
      " [4] setindex! at ./abstractarray.jl:998 [inlined]",
      " [5] get_belief(::Array{Float64,1}, ::GridInterpolations.RectangleGrid{5}, ::Bool) at /Users/sydneykatz/Documents/Airbus/UAM_Vertical/PolicyViz_noResp/PolicyViz.jl/src/viz_policy.jl:11",
      " [6] (::getfield(PolicyViz, Symbol(\"#get_heat1#4\")){Float64,Float64,LinearAlgebra.Adjoint{Float64,Array{Float64,2}},GridInterpolations.RectangleGrid{5}})(::Float64, ::Float64) at /Users/sydneykatz/Documents/Airbus/UAM_Vertical/PolicyViz_noResp/PolicyViz.jl/src/viz_policy.jl:65",
      " [7] #3 at ./generator.jl:36 [inlined]",
      " [8] iterate at ./generator.jl:47 [inlined]",
      " [9] collect_to!(::Array{Int64,2}, ::Base.Generator{Base.Iterators.Zip2{Array{Float64,2},Array{Float64,2}},getfield(Base, Symbol(\"##3#4\")){getfield(PolicyViz, Symbol(\"#get_heat1#4\")){Float64,Float64,LinearAlgebra.Adjoint{Float64,Array{Float64,2}},GridInterpolations.RectangleGrid{5}}}}, ::Int64, ::Tuple{Int64,Int64}) at ./array.jl:656",
      " [10] collect_to_with_first! at ./array.jl:643 [inlined]",
      " [11] collect(::Base.Generator{Base.Iterators.Zip2{Array{Float64,2},Array{Float64,2}},getfield(Base, Symbol(\"##3#4\")){getfield(PolicyViz, Symbol(\"#get_heat1#4\")){Float64,Float64,LinearAlgebra.Adjoint{Float64,Array{Float64,2}},GridInterpolations.RectangleGrid{5}}}}) at ./array.jl:624",
      " [12] map at ./abstractarray.jl:2060 [inlined]",
      " [13] (::getfield(PGFPlots.Plots, Symbol(\"##Image#38#40\")))(::Nothing, ::Bool, ::PGFPlots.ColorMaps.RGBArrayMap, ::Int64, ::Int64, ::Int64, ::Int64, ::Nothing, ::Type, ::getfield(PolicyViz, Symbol(\"#get_heat1#4\")){Float64,Float64,LinearAlgebra.Adjoint{Float64,Array{Float64,2}},GridInterpolations.RectangleGrid{5}}, ::Tuple{Float64,Float64}, ::Tuple{Float64,Float64}) at /Users/sydneykatz/.julia/packages/PGFPlots/fwqjD/src/plots.jl:289",
      " [14] Type at ./none:0 [inlined]",
      " [15] (::getfield(PolicyViz, Symbol(\"##1#3\")){LinearAlgebra.Adjoint{Float64,Array{Float64,2}},GridInterpolations.RectangleGrid{5},Array{ColorTypes.RGB{Float64},1},Array{ColorTypes.RGB{Float64},1},Array{Float64,1},Array{Float64,1},Array{String,1},String})(::Int64, ::Bool, ::Float64, ::Float64, ::Float64, ::Float64, ::Float64, ::Float64, ::String, ::Float64) at /Users/sydneykatz/Documents/Airbus/UAM_Vertical/PolicyViz_noResp/PolicyViz.jl/src/viz_policy.jl:72",
      " [16] map(::Function, ::Widgets.Widget{:spinbox,Union{Nothing, Int64}}, ::Widgets.Widget{:togglebuttons,Any}, ::Widgets.Widget{:spinbox,Union{Nothing, Float64}}, ::Vararg{Any,N} where N) at /Users/sydneykatz/.julia/packages/Observables/qCJWB/src/Observables.jl:174",
      " [17] viz_policy(::LinearAlgebra.Adjoint{Float64,Array{Float64,2}}) at /Users/sydneykatz/.julia/packages/Widgets/AcUe0/src/manipulate.jl:25",
      " [18] top-level scope at In[3]:1"
     ]
    }
   ],
   "source": [
    "viz_policy(Q)"
   ]
  },
  {
   "cell_type": "code",
   "execution_count": null,
   "metadata": {},
   "outputs": [],
   "source": []
  }
 ],
 "metadata": {
  "@webio": {
   "lastCommId": null,
   "lastKernelId": null
  },
  "kernelspec": {
   "display_name": "Julia 1.0.0",
   "language": "julia",
   "name": "julia-1.0"
  },
  "language_info": {
   "file_extension": ".jl",
   "mimetype": "application/julia",
   "name": "julia",
   "version": "1.0.0"
  },
  "widgets": {
   "state": {
    "13a9afde-6c0d-4855-b1ad-e7d56d92826b": {
     "views": [
      {
       "cell_index": 3
      }
     ]
    },
    "17ea7b51-dbfe-49df-8eda-c5259c5a841a": {
     "views": [
      {
       "cell_index": 3
      }
     ]
    },
    "2c968cdc-2c19-43a3-a497-5b410004624b": {
     "views": [
      {
       "cell_index": 3
      }
     ]
    },
    "77e925a0-5aae-4177-b7b2-4623d8469a8a": {
     "views": [
      {
       "cell_index": 3
      }
     ]
    },
    "916fc52d-a5e8-44b9-9d3f-61380872e4d6": {
     "views": [
      {
       "cell_index": 3
      }
     ]
    },
    "9e45b8d8-3c73-432e-ad10-853d870fe4ca": {
     "views": [
      {
       "cell_index": 3
      }
     ]
    },
    "a161c1f5-ac0b-40d9-986e-186ec02cab98": {
     "views": [
      {
       "cell_index": 3
      }
     ]
    },
    "ba2438de-2d56-49c1-90a9-aa349c612393": {
     "views": [
      {
       "cell_index": 3
      }
     ]
    },
    "c1317d5e-2ed8-4d7b-bb60-6eacc1bab986": {
     "views": [
      {
       "cell_index": 3
      }
     ]
    },
    "d27e6b74-e176-4419-9bd9-8bdacaaa8431": {
     "views": [
      {
       "cell_index": 3
      }
     ]
    },
    "d94f1767-8ba2-4c0a-8d1b-f4970c328823": {
     "views": [
      {
       "cell_index": 3
      }
     ]
    },
    "f8ede400-8d84-4a58-a4f9-68ec4e131ced": {
     "views": [
      {
       "cell_index": 3
      }
     ]
    }
   },
   "version": "1.2.0"
  }
 },
 "nbformat": 4,
 "nbformat_minor": 1
}
